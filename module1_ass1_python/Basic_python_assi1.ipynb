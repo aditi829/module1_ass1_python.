{
 "cells": [
  {
   "cell_type": "markdown",
   "id": "6e5cb392-a7f2-4fc6-81ad-1a0a9e070b35",
   "metadata": {},
   "source": [
    "Q1) Create one variable containing following type of data:\n",
    "1. string\n",
    "2. list\n",
    "3. float\n",
    "4. tuple"
   ]
  },
  {
   "cell_type": "markdown",
   "id": "ddcff9e2-5eb3-44d5-a8c1-7f5d8ba5b7df",
   "metadata": {},
   "source": [
    "Answer:"
   ]
  },
  {
   "cell_type": "code",
   "execution_count": 1,
   "id": "74d370ef-26f2-46f9-9af6-30c495ef13d6",
   "metadata": {},
   "outputs": [],
   "source": [
    "String = \"I am fine\"\n",
    "list=[32,54,54,23,33]\n",
    "float= 3.14\n",
    "tuple= (\"sita\", \"geeta\", \"ram\", \"shyam\")"
   ]
  },
  {
   "cell_type": "markdown",
   "id": "a0b98276-7402-48ad-b8a4-aba630bc507e",
   "metadata": {},
   "source": [
    "Q2)Given are some following variable containing data:\n",
    "\n",
    "1. var1=''\n",
    "2. var2='[DS, ML, Python]'\n",
    "3. var3= ['DS','ML','Python']\n",
    "4. var4= 1\n",
    "\n",
    "   What will be the data type of the above given variable?\n",
    "   "
   ]
  },
  {
   "cell_type": "markdown",
   "id": "b8f7c9b3-c3cc-4793-b6dc-eedacb816077",
   "metadata": {},
   "source": [
    "Answer:"
   ]
  },
  {
   "cell_type": "markdown",
   "id": "7b3b51d9-5176-4901-aa69-3febe630ab85",
   "metadata": {},
   "source": [
    "1. string\n",
    "2. string\n",
    "3. List\n",
    "4. Integer\n"
   ]
  },
  {
   "cell_type": "markdown",
   "id": "537d9ef7-1c69-43ea-b5c6-a9779a7c2348",
   "metadata": {},
   "source": [
    "Q3)Explain the use of the following operators using an example:\n",
    "1. /\n",
    "2. %\n",
    "3. //\n",
    "4. **\n"
   ]
  },
  {
   "cell_type": "markdown",
   "id": "18880b22-7275-4d40-9634-34011433bc06",
   "metadata": {},
   "source": [
    "Answer:"
   ]
  },
  {
   "cell_type": "markdown",
   "id": "f5d86690-9e76-4d74-a1f2-8d58c2c0a23e",
   "metadata": {},
   "source": [
    "1. Division(/) - This operator poerforms division and returns a floating-point resutl, even if both operands and integers."
   ]
  },
  {
   "cell_type": "code",
   "execution_count": 2,
   "id": "b43f3217-19b2-40d3-8427-1b25b9e884d6",
   "metadata": {},
   "outputs": [
    {
     "name": "stdout",
     "output_type": "stream",
     "text": [
      "0.5\n"
     ]
    }
   ],
   "source": [
    "a= 10\n",
    "b= 20\n",
    "result = a/b\n",
    "print(result)"
   ]
  },
  {
   "cell_type": "markdown",
   "id": "f992dc1f-c230-4c21-b69e-0c95122a4576",
   "metadata": {},
   "source": [
    "2. Modulus(%) - This % operator returns the remainder of the division between two numbers. "
   ]
  },
  {
   "cell_type": "code",
   "execution_count": 3,
   "id": "5481e4e2-21a8-4d09-82a4-932b7cdcd974",
   "metadata": {},
   "outputs": [
    {
     "name": "stdout",
     "output_type": "stream",
     "text": [
      "1\n"
     ]
    }
   ],
   "source": [
    "a= 10\n",
    "b= 3\n",
    "result = a % b\n",
    "print(result) "
   ]
  },
  {
   "cell_type": "markdown",
   "id": "9a25ccf0-29da-4ea9-bd9b-c06b6f6aad40",
   "metadata": {},
   "source": [
    "3. Floor Division(//) - This operator performs floor division, return the largest integer less than or equal to the division result(gives quotient). \n"
   ]
  },
  {
   "cell_type": "code",
   "execution_count": 4,
   "id": "55b91822-0c60-4673-bc11-0523978574c2",
   "metadata": {},
   "outputs": [
    {
     "name": "stdout",
     "output_type": "stream",
     "text": [
      "3\n"
     ]
    }
   ],
   "source": [
    "a= 10\n",
    "b= 3\n",
    "result= a//b\n",
    "print(result)\n"
   ]
  },
  {
   "cell_type": "markdown",
   "id": "4ce946d1-aae4-408a-9402-6674f8588971",
   "metadata": {},
   "source": [
    "4. Exponentiation(**) - This operator raises the number on the left to the power of the number on the right. "
   ]
  },
  {
   "cell_type": "code",
   "execution_count": 5,
   "id": "d19a3966-9c8f-4e5d-9676-83453e754d01",
   "metadata": {},
   "outputs": [
    {
     "name": "stdout",
     "output_type": "stream",
     "text": [
      "8\n"
     ]
    }
   ],
   "source": [
    "a= 2 \n",
    "b= 3\n",
    "result = a**b\n",
    "print(result)"
   ]
  },
  {
   "cell_type": "markdown",
   "id": "005e45fd-92f3-49dd-b34e-8ab20499ede5",
   "metadata": {},
   "source": [
    "Q4)Create a list of length 10 of your choice containing multiple type of data. Using for loop print the element and its data type."
   ]
  },
  {
   "cell_type": "markdown",
   "id": "2a6edbf5-abb4-4655-8643-e827ab0b0c78",
   "metadata": {},
   "source": [
    "Answer:"
   ]
  },
  {
   "cell_type": "code",
   "execution_count": 6,
   "id": "fddcc2a8-d29a-42a3-82e1-d3ce3f30db23",
   "metadata": {},
   "outputs": [
    {
     "name": "stdout",
     "output_type": "stream",
     "text": [
      "34 <class 'int'>\n",
      "3.14 <class 'float'>\n",
      "hello world! <class 'str'>\n",
      "[1, 2, 3] <class 'list'>\n",
      "(4, 5, 6) <class 'tuple'>\n",
      "{'fruit': 'mango'} <class 'dict'>\n",
      "True <class 'bool'>\n",
      "(2+3j) <class 'complex'>\n",
      "None <class 'NoneType'>\n",
      "{1, 2, 3} <class 'set'>\n"
     ]
    }
   ],
   "source": [
    "my_list= [ 34, 3.14, \"hello world!\", [1,2,3], (4,5,6), {'fruit': 'mango'}, True,2+3j, None, {1,2,3} ]\n",
    "\n",
    "for item in my_list: \n",
    "    print(item, type(item))\n",
    "                                                                                                "
   ]
  },
  {
   "cell_type": "markdown",
   "id": "6bf88f6b-badd-471c-84b9-07da50f5abf4",
   "metadata": {},
   "source": [
    "Q5)Using a while loop. Verify if the number A is purely divisible by number B and if so then how many times it can be divisible."
   ]
  },
  {
   "cell_type": "markdown",
   "id": "f5a2c57b-11be-4810-99c9-e12c540aa8ab",
   "metadata": {},
   "source": [
    "Answer: "
   ]
  },
  {
   "cell_type": "code",
   "execution_count": null,
   "id": "de48f96a-d296-473b-b1d7-e04cb225d953",
   "metadata": {
    "scrolled": true
   },
   "outputs": [],
   "source": [
    "a= int(input(\"Enter the dividend (a): \"))\n",
    "b= int(input(\"Enter the divisor (b): \"))\n",
    "\n",
    "if b==0: \n",
    "    print(\"division by zero is not allowed.\")\n",
    "else: \n",
    "    if a%b == 0:\n",
    "        count= 0\n",
    "        temp=a\n",
    "        while temp % b == 0:\n",
    "           temp = temp//b\n",
    "           count += 1\n",
    "        print(f\"{a} is divisible by {b} exactly {count} times.\")\n",
    "    else:\n",
    "        print(f\"{a} is not divisible by {b}.\")\n",
    "\n"
   ]
  },
  {
   "cell_type": "markdown",
   "id": "8133f821-a77d-4fd0-a286-57fe370a3b84",
   "metadata": {},
   "source": [
    "Q6)Create a list containing 25 int type data. Using for loop and if- else condition print if the element is divisible by 3 or not. "
   ]
  },
  {
   "cell_type": "markdown",
   "id": "c00fb0fb-734d-48cd-bd5e-cc8a93c5714a",
   "metadata": {},
   "source": [
    "Answer:\n"
   ]
  },
  {
   "cell_type": "code",
   "execution_count": null,
   "id": "54bf89aa-e1b2-4765-81a6-f3f32d80a781",
   "metadata": {},
   "outputs": [],
   "source": [
    "my_list = [3,64,23,72,90,18,60,15,76,34,87,12,54,87,65,78,45,23,54,76,87,45,23,45,76]\n",
    "for num in my_list:\n",
    "    if num%3 == 0:\n",
    "        print(f\"{num} is divisible by 3\")\n",
    "    else: \n",
    "        print(f\"{num} is not divisible by 3.\")\n"
   ]
  },
  {
   "cell_type": "markdown",
   "id": "8e787a62-6d2d-47f1-8701-e29897bd446c",
   "metadata": {},
   "source": [
    "Q7)What do you understand about mutable and immutable data types? Give examples for both showing this property. "
   ]
  },
  {
   "cell_type": "markdown",
   "id": "e19d640f-9296-4c72-9077-d86f359dadf5",
   "metadata": {},
   "source": [
    "Answer: "
   ]
  },
  {
   "cell_type": "markdown",
   "id": "6aa9c07f-5b85-454d-91f5-4e7e7219bfde",
   "metadata": {},
   "source": [
    "Mutable data types- These are in-built types like int, float, bool, string, unicode, tuple. In simple words, an immutable object \n",
    "can't be changed after it is created "
   ]
  },
  {
   "cell_type": "code",
   "execution_count": null,
   "id": "725b8ef3-39b7-49fb-a6de-c7a60b7ae70b",
   "metadata": {},
   "outputs": [],
   "source": [
    "# example- List\n",
    "\n",
    "my_list= [1,2,3]\n",
    "my_list[0] = 10\n",
    "my_list.append(4) \n",
    "print(my_list)\n"
   ]
  },
  {
   "cell_type": "markdown",
   "id": "e28b0977-ef0c-4b06-b4a7-95e1e898d2c0",
   "metadata": {},
   "source": [
    "Immutable data types- These objects cannot be changed after they are created. These are of type list, dict, set custom classes are generally mutable. "
   ]
  },
  {
   "cell_type": "code",
   "execution_count": null,
   "id": "bfd203bc-8a55-4ede-b5a6-0f8ffa095ccd",
   "metadata": {},
   "outputs": [],
   "source": [
    "# example- \n",
    "\n",
    "my_tuple=(1,2,3)\n",
    "my_tuple[0]=10 #This gives error because this data type can not be change"
   ]
  },
  {
   "cell_type": "code",
   "execution_count": null,
   "id": "1848f892-b25e-4a1c-bed4-1a8d4085d9bb",
   "metadata": {},
   "outputs": [],
   "source": []
  }
 ],
 "metadata": {
  "kernelspec": {
   "display_name": "Python 3 (ipykernel)",
   "language": "python",
   "name": "python3"
  },
  "language_info": {
   "codemirror_mode": {
    "name": "ipython",
    "version": 3
   },
   "file_extension": ".py",
   "mimetype": "text/x-python",
   "name": "python",
   "nbconvert_exporter": "python",
   "pygments_lexer": "ipython3",
   "version": "3.13.2"
  }
 },
 "nbformat": 4,
 "nbformat_minor": 5
}
